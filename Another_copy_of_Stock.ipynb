{
  "nbformat": 4,
  "nbformat_minor": 0,
  "metadata": {
    "colab": {
      "provenance": [],
      "authorship_tag": "ABX9TyOQ8XnbM3G1WXR918QpYp/V",
      "include_colab_link": true
    },
    "kernelspec": {
      "name": "python3",
      "display_name": "Python 3"
    },
    "language_info": {
      "name": "python"
    }
  },
  "cells": [
    {
      "cell_type": "markdown",
      "metadata": {
        "id": "view-in-github",
        "colab_type": "text"
      },
      "source": [
        "<a href=\"https://colab.research.google.com/github/tech4213/demo-repo/blob/main/Another_copy_of_Stock.ipynb\" target=\"_parent\"><img src=\"https://colab.research.google.com/assets/colab-badge.svg\" alt=\"Open In Colab\"/></a>"
      ]
    },
    {
      "cell_type": "code",
      "source": [
        "stock1_dict={\"stock\":\"pepsi\",\n",
        "             \"price_last_week\" :150,\n",
        "             \"price_today\": 189,\n",
        "             \"total_mkt_value\":100000000\n",
        "}\n",
        "stock2_dict={\"stock\": \"cola\",\n",
        "             \"price_last_week\" :100,\n",
        "             \"price_today\" : 95,\n",
        "             \"total_mkt_value\": 50000000\n",
        "}\n",
        "stock3_dict={ \"stock\":\"british_gas\" ,\n",
        "              \"price_last_week\":250  ,\n",
        "              \"price_today\" :  300 ,\n",
        "              \"total_mkt_value\" : 150000000\n",
        "}\n",
        "stock_obj_list=[stock1_dict,stock2_dict,stock3_dict]\n",
        "# if statement\n",
        "if stock_obj_list[0] ==\"pepsi\":\n",
        "  print(\"yes\")\n",
        "\n",
        "\n",
        "\n"
      ],
      "metadata": {
        "id": "CQaL6x-ubxzS"
      },
      "execution_count": null,
      "outputs": []
    },
    {
      "cell_type": "code",
      "source": [],
      "metadata": {
        "id": "wTS2GE48zPVC"
      },
      "execution_count": null,
      "outputs": []
    },
    {
      "cell_type": "code",
      "source": [],
      "metadata": {
        "id": "AE9ydgcozQIX"
      },
      "execution_count": null,
      "outputs": []
    },
    {
      "cell_type": "markdown",
      "source": [],
      "metadata": {
        "id": "MaFlZA_2zQo3"
      }
    },
    {
      "cell_type": "markdown",
      "source": [],
      "metadata": {
        "id": "hz-SkrmjbyJS"
      }
    },
    {
      "cell_type": "code",
      "source": [
        "\n",
        "\n",
        "\n"
      ],
      "metadata": {
        "id": "MJ-o7PIPSVuw"
      },
      "execution_count": null,
      "outputs": []
    },
    {
      "cell_type": "code",
      "source": [],
      "metadata": {
        "id": "qEjRPeEScQCV"
      },
      "execution_count": null,
      "outputs": []
    }
  ]
}